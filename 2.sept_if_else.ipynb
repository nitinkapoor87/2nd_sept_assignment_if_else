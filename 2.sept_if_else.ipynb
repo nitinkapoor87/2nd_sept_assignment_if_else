{
 "cells": [
  {
   "cell_type": "markdown",
   "id": "0e4defa8-a604-4152-ae87-0430ca51d7d0",
   "metadata": {},
   "source": [
    "# 1. Write a Python program to check if a given number is positive or negative.\n"
   ]
  },
  {
   "cell_type": "code",
   "execution_count": 33,
   "id": "e3dba8b9-e4c3-450b-aa55-add439ca22e6",
   "metadata": {},
   "outputs": [
    {
     "name": "stdin",
     "output_type": "stream",
     "text": [
      "enter number to check if its positive or negative: 4\n"
     ]
    },
    {
     "name": "stdout",
     "output_type": "stream",
     "text": [
      "number is positive\n"
     ]
    }
   ],
   "source": [
    "a=int(input('enter number to check if its positive or negative:'))\n",
    "\n",
    "if a>0:\n",
    "    print('number is positive')\n",
    "elif a==0:\n",
    "    print('number is zero')\n",
    "else:\n",
    "    print('number is negative')"
   ]
  },
  {
   "cell_type": "markdown",
   "id": "34c2ff1f-81fc-486e-a38b-96380b47b62d",
   "metadata": {},
   "source": [
    "# 2. Create a program that determines if a person is eligible to vote based on their age.\n"
   ]
  },
  {
   "cell_type": "code",
   "execution_count": 25,
   "id": "2970687d-bbde-41d4-bf70-87fffdb2a33f",
   "metadata": {},
   "outputs": [
    {
     "name": "stdin",
     "output_type": "stream",
     "text": [
      "enter age: 17\n"
     ]
    },
    {
     "name": "stdout",
     "output_type": "stream",
     "text": [
      "you cannot vote\n"
     ]
    }
   ],
   "source": [
    "a=int(input('enter age:'))\n",
    "\n",
    "if a>=18:\n",
    "    print('you can vote')\n",
    "else:\n",
    "    print('you cannot vote')"
   ]
  },
  {
   "cell_type": "markdown",
   "id": "d2896a38-17b3-42f1-982f-e77bfa7e3751",
   "metadata": {},
   "source": [
    "# 3. Develop a program to find the maximum of two numbers using if-else statements.\n"
   ]
  },
  {
   "cell_type": "code",
   "execution_count": 34,
   "id": "07ae7f04-cdc4-4583-9bec-6a55312f19a1",
   "metadata": {},
   "outputs": [
    {
     "name": "stdin",
     "output_type": "stream",
     "text": [
      "enter 1st number to check maximum: 4\n",
      "enter 2nd number: 5\n"
     ]
    },
    {
     "name": "stdout",
     "output_type": "stream",
     "text": [
      "largest number is : 5\n"
     ]
    }
   ],
   "source": [
    "a=int(input('enter 1st number to check maximum:'))\n",
    "b=int(input('enter 2nd number:'))\n",
    "\n",
    "if a>b:\n",
    "    print('largest number is :',a)\n",
    "else:\n",
    "    print('largest number is :',b)"
   ]
  },
  {
   "cell_type": "markdown",
   "id": "37c40923-826a-4cd7-b502-b3c1da9a022e",
   "metadata": {},
   "source": [
    "# 4. Write a Python script to classify a given year as a leap year or not.\n"
   ]
  },
  {
   "cell_type": "code",
   "execution_count": 27,
   "id": "e2535af4-bd0f-4ac2-892d-67455b1021ba",
   "metadata": {},
   "outputs": [
    {
     "name": "stdin",
     "output_type": "stream",
     "text": [
      "enter year to check if its a leap year: 2000\n"
     ]
    },
    {
     "name": "stdout",
     "output_type": "stream",
     "text": [
      "leap year\n"
     ]
    }
   ],
   "source": [
    "a=int(input('enter year to check if its a leap year:'))\n",
    "\n",
    "if a%4==0:\n",
    "    print('leap year')\n",
    "else:\n",
    "    print('not a leap year')\n"
   ]
  },
  {
   "cell_type": "markdown",
   "id": "52e2f629-766d-4043-a0ae-13199404c913",
   "metadata": {},
   "source": [
    "# 5. Create a program that checks whether a character is a vowel or a consonant.\n"
   ]
  },
  {
   "cell_type": "code",
   "execution_count": 28,
   "id": "8c288654-bdc4-4eb4-b52c-d1aa850440a4",
   "metadata": {},
   "outputs": [
    {
     "name": "stdin",
     "output_type": "stream",
     "text": [
      "enter alphabet to find if its a vowel or not: r\n"
     ]
    },
    {
     "name": "stdout",
     "output_type": "stream",
     "text": [
      "consonant\n"
     ]
    }
   ],
   "source": [
    "a=input('enter alphabet to find if its a vowel or not:')\n",
    "\n",
    "if a=='a':\n",
    "    print('vowel')\n",
    "elif a=='e':\n",
    "    print('vowel')\n",
    "elif a=='i':\n",
    "    print('vowel')\n",
    "elif a=='o':\n",
    "    print('vowel')\n",
    "elif a=='u':\n",
    "    print('vowel')\n",
    "else:\n",
    "    print('consonant')"
   ]
  },
  {
   "cell_type": "markdown",
   "id": "37aeaff1-28cb-4b2e-8fba-87fbc07d9d54",
   "metadata": {},
   "source": [
    "# 6. Implement a program to determine whether a given number is even or odd."
   ]
  },
  {
   "cell_type": "code",
   "execution_count": 29,
   "id": "8458d4ee-2309-4fdd-b0cc-c2a15699d8f4",
   "metadata": {},
   "outputs": [
    {
     "name": "stdin",
     "output_type": "stream",
     "text": [
      "enter number to check if number is: 5\n"
     ]
    },
    {
     "name": "stdout",
     "output_type": "stream",
     "text": [
      "odd number\n"
     ]
    }
   ],
   "source": [
    "a=int(input('enter number to check if number is:'))\n",
    "\n",
    "if a%2==0:\n",
    "    print('even number')\n",
    "else:\n",
    "    print('odd number')"
   ]
  },
  {
   "cell_type": "markdown",
   "id": "970bedfb-b319-4e72-977c-66a53a082f3c",
   "metadata": {},
   "source": [
    "# 7. Write a Python function to calculate the absolute value of a number without using the `abs()` function.\n"
   ]
  },
  {
   "cell_type": "code",
   "execution_count": 36,
   "id": "32f75617-aefd-4389-91d7-d8126d7db26e",
   "metadata": {},
   "outputs": [
    {
     "name": "stdin",
     "output_type": "stream",
     "text": [
      "enter number to calculate its absolute value: -10\n"
     ]
    },
    {
     "name": "stdout",
     "output_type": "stream",
     "text": [
      "absolute value: 10\n"
     ]
    }
   ],
   "source": [
    "a=int(input('enter number to calculate its absolute value:'))\n",
    "\n",
    "if a<0:\n",
    "    print('absolute value:',-a)\n",
    "else:\n",
    "    print('absolute value:',a)"
   ]
  },
  {
   "cell_type": "markdown",
   "id": "45ed5534-7cf0-403d-9996-d0ad86491783",
   "metadata": {},
   "source": [
    "# 8. Develop a program that determines the largest of three given numbers using if-else statements.\n"
   ]
  },
  {
   "cell_type": "code",
   "execution_count": 32,
   "id": "b01a69fe-f765-4ae0-b0d6-410982bbe7fd",
   "metadata": {},
   "outputs": [
    {
     "name": "stdin",
     "output_type": "stream",
     "text": [
      "enter 1st number to check largest number: 1\n",
      "2nd number: 2\n",
      "3rd number: 3\n"
     ]
    },
    {
     "name": "stdout",
     "output_type": "stream",
     "text": [
      "largest number is : 3\n"
     ]
    }
   ],
   "source": [
    "a=int(input('enter 1st number to check largest number:'))\n",
    "b=int(input('2nd number:'))\n",
    "c=int(input('3rd number:'))\n",
    "\n",
    "if a>b>=c:\n",
    "    print('largest number is :',a)\n",
    "elif b>a>=c:\n",
    "    print('largest number is :',b)\n",
    "else:\n",
    "    print('largest number is :',c)"
   ]
  },
  {
   "cell_type": "markdown",
   "id": "19bc0169-b630-4e29-b280-d48b52ddc611",
   "metadata": {},
   "source": [
    "# 9. Create a program that checks if a given string is a palindrome.\n"
   ]
  },
  {
   "cell_type": "code",
   "execution_count": 17,
   "id": "ebce93a9-6014-4615-8066-f7dba91c6309",
   "metadata": {},
   "outputs": [
    {
     "name": "stdin",
     "output_type": "stream",
     "text": [
      "enter name to check if its palindrome or not pwskills\n"
     ]
    },
    {
     "name": "stdout",
     "output_type": "stream",
     "text": [
      "not palindrome\n"
     ]
    }
   ],
   "source": [
    "a=input('enter name to check if its palindrome or not')\n",
    "\n",
    "if a==a[::-1]:\n",
    "    print('palindrome')\n",
    "else:\n",
    "    print('not palindrome')"
   ]
  },
  {
   "cell_type": "markdown",
   "id": "d39d1a6b-d92b-4a85-9fe7-98aab5d5e725",
   "metadata": {},
   "source": [
    "# 10. Write a Python program to calculate the grade based on a student's score.\n"
   ]
  },
  {
   "cell_type": "code",
   "execution_count": 21,
   "id": "37cc0815-b204-46ee-86d8-c94e6b2d6af6",
   "metadata": {},
   "outputs": [
    {
     "name": "stdin",
     "output_type": "stream",
     "text": [
      "enter marks to check grade 90\n"
     ]
    },
    {
     "name": "stdout",
     "output_type": "stream",
     "text": [
      "A grade\n"
     ]
    }
   ],
   "source": [
    "a=int(input('enter marks to check grade'))\n",
    "\n",
    "if a>=90:\n",
    "    print('A grade')\n",
    "elif a>=80:\n",
    "    print('B grade')\n",
    "elif a>=70:\n",
    "    print('C grade')\n",
    "else:\n",
    "    print('D grade')"
   ]
  },
  {
   "cell_type": "markdown",
   "id": "09a380de-45b4-4a85-ab50-8df24f50c63a",
   "metadata": {},
   "source": [
    "# 11. Write a program to find the largest among three numbers using nested if-else statements.\n"
   ]
  },
  {
   "cell_type": "code",
   "execution_count": 37,
   "id": "26d8ac3a-61fd-4f4b-9f8c-5160fa1d7fa0",
   "metadata": {},
   "outputs": [
    {
     "name": "stdin",
     "output_type": "stream",
     "text": [
      "enter 1st number to check largest number 3\n",
      "2nd number 2\n",
      "3rd number 1\n"
     ]
    },
    {
     "name": "stdout",
     "output_type": "stream",
     "text": [
      "largest number is : 3\n"
     ]
    }
   ],
   "source": [
    "a=int(input('enter 1st number to check largest number'))\n",
    "b=int(input('2nd number'))\n",
    "c=int(input('3rd number'))\n",
    "\n",
    "if a>b>=c:\n",
    "    print('largest number is :',a)\n",
    "else:\n",
    "    if b>a>=c:\n",
    "        print('largest number is :',b)\n",
    "    else:\n",
    "        print('largest number is :',c)"
   ]
  },
  {
   "cell_type": "markdown",
   "id": "c0cbeb66-cd8a-4613-983e-6f7a2e368eab",
   "metadata": {},
   "source": [
    "# 12. Implement a program to determine if a triangle is equilateral, isosceles, or scalene.\n"
   ]
  },
  {
   "cell_type": "code",
   "execution_count": 47,
   "id": "837ba4ad-9768-4fb7-86b2-7e29a1551ea5",
   "metadata": {},
   "outputs": [
    {
     "name": "stdin",
     "output_type": "stream",
     "text": [
      "enter 1st length for type of triangle 10\n",
      "2nd length 9\n",
      "3rd length 8\n"
     ]
    },
    {
     "name": "stdout",
     "output_type": "stream",
     "text": [
      "scalene triangle\n"
     ]
    }
   ],
   "source": [
    "a=int(input('enter 1st length for type of triangle'))\n",
    "b=int(input('2nd length'))\n",
    "c=int(input('3rd length'))\n",
    "\n",
    "if a==b==c:\n",
    "    print('equilateral triangle')\n",
    "else:\n",
    "    if a!=b!=c:\n",
    "        print('scalene triangle')\n",
    "    else:\n",
    "        print('isosceles')"
   ]
  },
  {
   "cell_type": "markdown",
   "id": "ac3ac589-e3d0-4d14-8928-00f044db60a6",
   "metadata": {},
   "source": [
    "# 13. Develop a program that checks if a year is a leap year and also if it is a century year.\n"
   ]
  },
  {
   "cell_type": "code",
   "execution_count": 50,
   "id": "2f88db22-9715-4084-83cd-9dc384d23538",
   "metadata": {},
   "outputs": [
    {
     "name": "stdin",
     "output_type": "stream",
     "text": [
      "enter year to check if its leap year and century year 2004\n"
     ]
    },
    {
     "name": "stdout",
     "output_type": "stream",
     "text": [
      "its a leap year but not century year\n"
     ]
    }
   ],
   "source": [
    "a=int(input('enter year to check if its leap year and century year'))\n",
    "\n",
    "if a%4==0:\n",
    "    if a%100==0:\n",
    "        print('its a leap year and a century year')\n",
    "    else:\n",
    "        print('its a leap year but not century year')\n",
    "else:\n",
    "    print('its neither a leap year or century year')"
   ]
  },
  {
   "cell_type": "markdown",
   "id": "051eb263-37a5-4458-9579-9c69e1837acd",
   "metadata": {},
   "source": [
    "# 14. Write a Python script to determine if a number is positive, negative, or zero.\n"
   ]
  },
  {
   "cell_type": "code",
   "execution_count": 4,
   "id": "1db3182a-4d73-47a3-800e-31f36b7a5247",
   "metadata": {},
   "outputs": [
    {
     "name": "stdin",
     "output_type": "stream",
     "text": [
      "enter number to check if its positive or negative 0\n"
     ]
    },
    {
     "name": "stdout",
     "output_type": "stream",
     "text": [
      "number is zero\n"
     ]
    }
   ],
   "source": [
    "a=int(input('enter number to check if its positive or negative'))\n",
    "\n",
    "if a>0:\n",
    "    print('positive number')\n",
    "else:\n",
    "    if a<0:\n",
    "        print('negative number')\n",
    "    else:\n",
    "        print('number is zero')"
   ]
  },
  {
   "cell_type": "markdown",
   "id": "2fb3ccd3-b0f7-48ed-9c10-fc0a636b826b",
   "metadata": {},
   "source": [
    "# 15. Create a program to check if a person is a teenager (between 13 and 19 years old).\n"
   ]
  },
  {
   "cell_type": "code",
   "execution_count": 12,
   "id": "991100c1-08d2-4610-9a4d-1aa25952c49d",
   "metadata": {},
   "outputs": [
    {
     "name": "stdin",
     "output_type": "stream",
     "text": [
      "enter age to check if teenager 18\n"
     ]
    },
    {
     "name": "stdout",
     "output_type": "stream",
     "text": [
      "teenager\n"
     ]
    }
   ],
   "source": [
    "a=int(input('enter age to check if teenager'))\n",
    "\n",
    "if 13<=a<=18:\n",
    "    print('teenager')\n",
    "else:\n",
    "    print('not a teenager')"
   ]
  },
  {
   "cell_type": "markdown",
   "id": "5ae2efce-2847-4fc4-80fd-b124d322aeff",
   "metadata": {},
   "source": [
    "# 16. Develop a program that determines the type of angle based on its measure (acute, obtuse, or right).\n"
   ]
  },
  {
   "cell_type": "code",
   "execution_count": 22,
   "id": "ff7519dd-ee0c-4bc6-94f7-641ae60cd6f3",
   "metadata": {},
   "outputs": [
    {
     "name": "stdin",
     "output_type": "stream",
     "text": [
      "enter 1st angle to check if triangle is acute,obtuse or right 80\n",
      "2nd angle 80\n",
      "3rd angle 20\n"
     ]
    },
    {
     "name": "stdout",
     "output_type": "stream",
     "text": [
      "acute triangle\n"
     ]
    }
   ],
   "source": [
    "a=int(input('enter 1st angle to check if triangle is acute,obtuse or right'))\n",
    "b=int(input('2nd angle'))\n",
    "c=int(input('3rd angle'))\n",
    "\n",
    "if a+b+c!=180:\n",
    "    print('this is not a triangle enter correct angles')\n",
    "else:\n",
    "    if a==90:\n",
    "        print('right angled triangle')\n",
    "    elif b==90:\n",
    "        print('right angled triangle')\n",
    "    elif c==90:\n",
    "        print('right angled triangle')\n",
    "    elif a>90:\n",
    "        print('obtuse triangle')\n",
    "    elif b>90:\n",
    "        print('obtuse triangle')\n",
    "    elif c>90:\n",
    "        print('obtuse triangle')\n",
    "    else:\n",
    "        print('acute triangle')"
   ]
  },
  {
   "cell_type": "markdown",
   "id": "43bc43c0-6bb1-498a-a306-4e1c7c726373",
   "metadata": {},
   "source": [
    "# 17. Write a Python program to calculate the roots of a quadratic equation.\n"
   ]
  },
  {
   "cell_type": "raw",
   "id": "eca67f26-9edc-4c90-afea-856d7976728b",
   "metadata": {},
   "source": [
    "x=(-b+-sqrt(b**2-4ac)/2a"
   ]
  },
  {
   "cell_type": "code",
   "execution_count": 41,
   "id": "9869fd13-4b09-45e8-9a21-1f22a01737a5",
   "metadata": {},
   "outputs": [
    {
     "name": "stdin",
     "output_type": "stream",
     "text": [
      "enter a in quadratic equation 1\n",
      "enter b in quadratic equation 2\n",
      "enter c in quadratic equation 1\n"
     ]
    },
    {
     "name": "stdout",
     "output_type": "stream",
     "text": [
      "x = -1.0\n",
      "x = -1.0\n"
     ]
    }
   ],
   "source": [
    "a=int(input('enter a in quadratic equation'))\n",
    "b=int(input('enter b in quadratic equation'))\n",
    "c=int(input('enter c in quadratic equation'))\n",
    "d=b**2-4*a*c\n",
    "\n",
    "if d<0:\n",
    "    print('this is not a real number for quadratic equation')\n",
    "else:\n",
    "    x1=(-b-math.sqrt(d))/2*a*c\n",
    "    x2=(-b+math.sqrt(d))/2*a*c\n",
    "    print('x =',x1),print('x =',x2)"
   ]
  },
  {
   "cell_type": "markdown",
   "id": "7a611188-044b-417b-bbdd-12c80ffedd71",
   "metadata": {},
   "source": [
    "# 18. Implement a program to determine the day of the week based on a user-provided number (1 for Monday, 2 for Tuesday, etc.).\n"
   ]
  },
  {
   "cell_type": "code",
   "execution_count": 14,
   "id": "3137a17a-e112-43d2-93ba-b5e65b4ce837",
   "metadata": {},
   "outputs": [
    {
     "name": "stdin",
     "output_type": "stream",
     "text": [
      "enter numnber 1 to 7 for day 5\n"
     ]
    },
    {
     "name": "stdout",
     "output_type": "stream",
     "text": [
      "friday\n"
     ]
    }
   ],
   "source": [
    "a=int(input('enter numnber 1 to 7 for day'))\n",
    "\n",
    "if a==1:\n",
    "    print('monday')\n",
    "elif a==2:\n",
    "    print('tuesday')\n",
    "elif a==3:\n",
    "    print('wednesday')\n",
    "elif a==4:\n",
    "    print('thursday')\n",
    "elif a==5:\n",
    "    print('friday')\n",
    "elif a==6:\n",
    "    print('saturday')\n",
    "elif a==7:\n",
    "    print('sunday')\n",
    "elif a<1:\n",
    "    print('enter number between 1 to 7')\n",
    "else:\n",
    "    a>7\n",
    "    print('enter number between 1 to 7')"
   ]
  },
  {
   "cell_type": "markdown",
   "id": "ac413d30-1be6-477c-a8a5-c5088dab081c",
   "metadata": {},
   "source": [
    "# 19. Create a program that determines if a year is a leap year and also if it is evenly divisible by 400.\n"
   ]
  },
  {
   "cell_type": "code",
   "execution_count": 23,
   "id": "dcea24bc-597c-458e-a773-48fe9e9c3300",
   "metadata": {},
   "outputs": [
    {
     "name": "stdin",
     "output_type": "stream",
     "text": [
      "enter year to check its a leap year and evenly divisible by 400: 2004\n"
     ]
    },
    {
     "name": "stdout",
     "output_type": "stream",
     "text": [
      "leap year but not divisible by 400\n"
     ]
    }
   ],
   "source": [
    "a=int(input('enter year to check its a leap year and evenly divisible by 400:'))\n",
    "\n",
    "if a%4==0 and a%400==0:\n",
    "    print('leap year and divisible by 400')\n",
    "elif a%4==0 and a%400!=0:\n",
    "    print('leap year but not divisible by 400')\n",
    "else:\n",
    "    print('not a leap year and not divisible by 400')"
   ]
  },
  {
   "cell_type": "markdown",
   "id": "9aabab4a-a1d2-472a-8707-96b454b64565",
   "metadata": {},
   "source": [
    "# 20. Develop a program that checks if a given number is prime or not using nested if-else statements.\n",
    "\n"
   ]
  },
  {
   "cell_type": "code",
   "execution_count": 14,
   "id": "49f3cf16-a9ef-4417-9936-006d6507dfc2",
   "metadata": {},
   "outputs": [
    {
     "name": "stdin",
     "output_type": "stream",
     "text": [
      "enter number to check number is prime or not 2\n"
     ]
    },
    {
     "name": "stdout",
     "output_type": "stream",
     "text": [
      "prime number\n"
     ]
    }
   ],
   "source": [
    "a=int(input('enter number to check number is prime or not'))\n",
    "\n",
    "if a==2 or a==3 or a==5 or a==7:\n",
    "    print('prime number')\n",
    "else:    \n",
    "    if a<2 :\n",
    "        print('not a prime number')\n",
    "    elif a%2==0:\n",
    "        print('not a prime number')\n",
    "    elif a%3==0:\n",
    "        print('not a prime number')\n",
    "    elif a%5==0:\n",
    "        print('not a prime number')\n",
    "    elif a%7==0:\n",
    "        print('not a prime number')\n",
    "    else:\n",
    "        print('prime number')"
   ]
  },
  {
   "cell_type": "markdown",
   "id": "33ab396a-d1a0-441c-9c39-95eac4dd1460",
   "metadata": {},
   "source": [
    "# 21. Write a Python program to assign grades based on different ranges of scores using elif statements.\n"
   ]
  },
  {
   "cell_type": "code",
   "execution_count": 15,
   "id": "167e22eb-8366-4b12-a9dd-70f70ac951d0",
   "metadata": {},
   "outputs": [
    {
     "name": "stdin",
     "output_type": "stream",
     "text": [
      "enter marks for grade 77\n"
     ]
    },
    {
     "name": "stdout",
     "output_type": "stream",
     "text": [
      "C grade\n"
     ]
    }
   ],
   "source": [
    "a=int(input('enter marks for grade'))\n",
    "\n",
    "if a>90:\n",
    "    print('A grade')\n",
    "elif a>80:\n",
    "    print('B grade')\n",
    "elif a>70:\n",
    "    print('C grade')\n",
    "else:\n",
    "    print('D grade')"
   ]
  },
  {
   "cell_type": "markdown",
   "id": "d6960ce6-e993-4a26-9841-6c0343e90785",
   "metadata": {},
   "source": [
    "# 22. Implement a program to determine the type of a triangle based on its angles.\n"
   ]
  },
  {
   "cell_type": "code",
   "execution_count": 16,
   "id": "13f1ab63-9144-4815-8e45-31265aedb711",
   "metadata": {},
   "outputs": [
    {
     "name": "stdin",
     "output_type": "stream",
     "text": [
      "enter 1st angle to check if triangle is acute,obtuse or right 90\n",
      "2nd angle 45\n",
      "3rd angle 45\n"
     ]
    },
    {
     "name": "stdout",
     "output_type": "stream",
     "text": [
      "right angled triangle\n"
     ]
    }
   ],
   "source": [
    "a=int(input('enter 1st angle to check if triangle is acute,obtuse or right'))\n",
    "b=int(input('2nd angle'))\n",
    "c=int(input('3rd angle'))\n",
    "\n",
    "if a+b+c!=180:\n",
    "    print('this is not a triangle enter correct angles')\n",
    "else:\n",
    "    if a==90:\n",
    "        print('right angled triangle')\n",
    "    elif b==90:\n",
    "        print('right angled triangle')\n",
    "    elif c==90:\n",
    "        print('right angled triangle')\n",
    "    elif a>90:\n",
    "        print('obtuse triangle')\n",
    "    elif b>90:\n",
    "        print('obtuse triangle')\n",
    "    elif c>90:\n",
    "        print('obtuse triangle')\n",
    "    else:\n",
    "        print('acute triangle')"
   ]
  },
  {
   "cell_type": "markdown",
   "id": "569e4592-c817-4eff-98b6-eddf3d2e3a91",
   "metadata": {
    "tags": []
   },
   "source": [
    "# 23. Develop a program to categorize a given person's BMI into underweight, normal, overweight, or obese using elif statements.\n"
   ]
  },
  {
   "cell_type": "code",
   "execution_count": 22,
   "id": "12508666-111c-4590-ac58-4b6c880d8e28",
   "metadata": {},
   "outputs": [
    {
     "name": "stdin",
     "output_type": "stream",
     "text": [
      "enter BMI 30\n"
     ]
    },
    {
     "name": "stdout",
     "output_type": "stream",
     "text": [
      "obese\n"
     ]
    }
   ],
   "source": [
    "a=float(input('enter BMI'))\n",
    "\n",
    "if a>=30:\n",
    "    print('obese')\n",
    "elif a>=25:\n",
    "    print('overweight')\n",
    "elif a>=18.5:\n",
    "    print('normal weight')\n",
    "else:\n",
    "    print('underweight')"
   ]
  },
  {
   "cell_type": "markdown",
   "id": "9ed8d366-6c69-430a-a869-2fdf7be5c0d1",
   "metadata": {},
   "source": [
    "# 24. Create a program that determines whether a given number is positive, negative, or zero using elif statements.\n"
   ]
  },
  {
   "cell_type": "code",
   "execution_count": 23,
   "id": "c7c303f6-b4ab-47b9-b67a-47960014b009",
   "metadata": {},
   "outputs": [
    {
     "name": "stdin",
     "output_type": "stream",
     "text": [
      "enter number to check if its positive or negative: -10\n"
     ]
    },
    {
     "name": "stdout",
     "output_type": "stream",
     "text": [
      "number is negative\n"
     ]
    }
   ],
   "source": [
    "a=int(input('enter number to check if its positive or negative:'))\n",
    "\n",
    "if a>0:\n",
    "    print('number is positive')\n",
    "elif a==0:\n",
    "    print('number is zero')\n",
    "else:\n",
    "    print('number is negative')"
   ]
  },
  {
   "cell_type": "markdown",
   "id": "f1112967-ba3a-4d29-9b0c-ae7e5b82a4d5",
   "metadata": {},
   "source": [
    "# 25. Write a Python script to determine the type of a character (uppercase, lowercase, or special) using elif statements."
   ]
  },
  {
   "cell_type": "code",
   "execution_count": 8,
   "id": "4884a4ca-ec59-4420-a99c-a1ad9fe03a4b",
   "metadata": {},
   "outputs": [
    {
     "name": "stdin",
     "output_type": "stream",
     "text": [
      "enter alphabet @\n"
     ]
    },
    {
     "name": "stdout",
     "output_type": "stream",
     "text": [
      "charcter\n"
     ]
    }
   ],
   "source": [
    "a=input('enter alphabet')\n",
    "char='!@#$%^&*()_+=:;\"<>?/[]{}-.,'\n",
    "alpha='abcdefghijklmnopqrstuvwxyz'\n",
    "if a in char:\n",
    "    print('charcter')\n",
    "elif a in alpha:\n",
    "    print('lowercase')\n",
    "else:\n",
    "    print('uppercase')"
   ]
  },
  {
   "cell_type": "markdown",
   "id": "4ef59d5b-b217-4e1a-a25b-3e647933ec5c",
   "metadata": {},
   "source": [
    "# 26. Implement a program to calculate the discounted price based on different purchase amounts using elif statements."
   ]
  },
  {
   "cell_type": "code",
   "execution_count": 16,
   "id": "c4eaad2b-37ad-417a-939a-939b2ddd7bc6",
   "metadata": {},
   "outputs": [
    {
     "name": "stdin",
     "output_type": "stream",
     "text": [
      "enter purchase price 60\n"
     ]
    },
    {
     "name": "stdout",
     "output_type": "stream",
     "text": [
      "you can price\n"
     ]
    }
   ],
   "source": [
    "pur=int(input('enter purchase price'))\n",
    "price=50\n",
    "\n",
    "if pur<=price:\n",
    "    disc=((price-pur)/price)*100\n",
    "    print('discount required to purchase the product',disc,'%')\n",
    "elif pur>price:\n",
    "    print('you can price')"
   ]
  },
  {
   "cell_type": "markdown",
   "id": "cc87e8aa-474f-4e4d-aad0-8fc207bf0403",
   "metadata": {},
   "source": [
    "# 27. Develop a program to calculate the electricity bill based on different consumption slabs using elif statements."
   ]
  },
  {
   "cell_type": "code",
   "execution_count": 19,
   "id": "de66e144-4a04-4bcb-8026-e1750beb02da",
   "metadata": {},
   "outputs": [
    {
     "name": "stdin",
     "output_type": "stream",
     "text": [
      "enter electricity units 500\n"
     ]
    },
    {
     "name": "stdout",
     "output_type": "stream",
     "text": [
      "current bill 3500\n"
     ]
    }
   ],
   "source": [
    "slab=int(input('enter electricity units'))\n",
    "\n",
    "if slab<200:\n",
    "    bill=slab*3\n",
    "elif 201<slab<400:\n",
    "    bill=slab*5\n",
    "elif 401<slab<800:\n",
    "    bill=slab*7\n",
    "else:\n",
    "    bill=slab*10\n",
    "print('current bill',bill)"
   ]
  },
  {
   "cell_type": "markdown",
   "id": "b05ee644-3bd5-461b-8816-5b5f71f65e31",
   "metadata": {
    "tags": []
   },
   "source": [
    "# 28. Create a program to determine the type of quadrilateral based on its angles and sides using elif statements."
   ]
  },
  {
   "cell_type": "code",
   "execution_count": 26,
   "id": "fc0d9f10-5169-4a3b-9008-28bb2a5774ec",
   "metadata": {},
   "outputs": [
    {
     "name": "stdin",
     "output_type": "stream",
     "text": [
      "enter 1st angle 90\n",
      "enter 2nd angle 45\n",
      "enter 3rd angle 45\n"
     ]
    },
    {
     "name": "stdout",
     "output_type": "stream",
     "text": [
      "right angled triangle\n"
     ]
    }
   ],
   "source": [
    "a1=int(input('enter 1st angle'))\n",
    "a2=int(input('enter 2nd angle'))\n",
    "a3=int(input('enter 3rd angle'))\n",
    "\n",
    "if a1+a2+a3!=180:\n",
    "    print('invalid angles entered this is not a triangle')\n",
    "elif a1==a2==a3:\n",
    "    print('equilateral triangle')\n",
    "elif a1==90 or a2==90 or a3==90:\n",
    "    print('right angled triangle')\n",
    "elif a1>90 or a2>90 or a3>90:\n",
    "    print('obtuse triangle')\n",
    "else:\n",
    "    print('acute triangle')"
   ]
  },
  {
   "cell_type": "markdown",
   "id": "cff8fa75-02df-48db-a485-3858439e9d12",
   "metadata": {},
   "source": [
    "# 29. Write a Python script to determine the season based on a user-provided month using elif statements."
   ]
  },
  {
   "cell_type": "code",
   "execution_count": 19,
   "id": "89bb00a1-bac8-4ddc-bf61-873b4738bcfd",
   "metadata": {},
   "outputs": [
    {
     "name": "stdin",
     "output_type": "stream",
     "text": [
      "enter month number to determine season 10\n"
     ]
    },
    {
     "name": "stdout",
     "output_type": "stream",
     "text": [
      "autumn season\n"
     ]
    }
   ],
   "source": [
    "m=int(input('enter month number to determine season'))\n",
    "\n",
    "if 0>=m or m>12:\n",
    "    print('invalid month entered')\n",
    "elif m==3 or m==2:\n",
    "    print('spring season')\n",
    "elif m==4 or m==5:\n",
    "    print('summer season')\n",
    "elif 6<=m<=9:\n",
    "    print('monsoon season')\n",
    "elif 10<=m<=11:\n",
    "    print('autumn season')\n",
    "elif m==12 or m==1:\n",
    "    print('winter season')"
   ]
  },
  {
   "cell_type": "markdown",
   "id": "412ee50e-72f7-40c7-8e55-4062a5709c9c",
   "metadata": {},
   "source": [
    "# 30. Implement a program to determine the type of a year (leap or common) and month (30 or 31 days) using elif statements.\n"
   ]
  },
  {
   "cell_type": "code",
   "execution_count": 34,
   "id": "2593c8aa-a995-4466-a0eb-f4534c380e99",
   "metadata": {},
   "outputs": [
    {
     "name": "stdin",
     "output_type": "stream",
     "text": [
      "enter year 200\n",
      "enter month number 29\n"
     ]
    },
    {
     "name": "stdout",
     "output_type": "stream",
     "text": [
      "leap year\n",
      "invalid month entered\n"
     ]
    }
   ],
   "source": [
    "try:\n",
    "    a=int(input('enter year'))\n",
    "    b=int(input('enter month number'))\n",
    "\n",
    "\n",
    "    if a%4==0:\n",
    "        print('leap year')\n",
    "        if b<0 or b>12 :\n",
    "            print ('invalid month entered')\n",
    "        elif b==2:\n",
    "            print('29 days')\n",
    "        elif b==1 or b==3 or b==5 or b==7 or b==8 or b==10 or b==12:\n",
    "            print('31 days')\n",
    "        elif b==4 or b==6 or b==9 or b==11:\n",
    "             print('30 days')\n",
    "    else:\n",
    "        print('not leap year')\n",
    "        if b<0 or b>12 :\n",
    "            print ('invalid month entered')\n",
    "        elif b==2:\n",
    "            print('28 days')\n",
    "        elif b==1 or b==3 or b==5 or b==7 or b==8 or b==10 or b==12:\n",
    "            print('31 days')\n",
    "        elif b==4 or b==6 or b==9 or b==11:\n",
    "             print('30 days')\n",
    "except Exception as e:\n",
    "    print(e)"
   ]
  },
  {
   "cell_type": "markdown",
   "id": "137c047b-97c3-42e1-bf5e-1a173d809997",
   "metadata": {},
   "source": [
    "# 1. Write a Python program that checks if a given number is positive, negative, or zero."
   ]
  },
  {
   "cell_type": "code",
   "execution_count": 39,
   "id": "87d0a093-a8d3-4ddb-a242-62ea100ae95d",
   "metadata": {},
   "outputs": [
    {
     "name": "stdin",
     "output_type": "stream",
     "text": [
      "enter number to check number negative or positive -10\n"
     ]
    },
    {
     "name": "stdout",
     "output_type": "stream",
     "text": [
      "number is negative\n"
     ]
    }
   ],
   "source": [
    "try:\n",
    "    a=int(input('enter number to check number negative or positive'))\n",
    "    \n",
    "    if a<0:\n",
    "        print('number is negative')\n",
    "    elif a>0:\n",
    "        print('number is positive')\n",
    "    else:\n",
    "        print('number is zero')\n",
    "except Exception as e:\n",
    "    print(e)"
   ]
  },
  {
   "cell_type": "markdown",
   "id": "54d323f3-4fac-4b81-9f44-7f558199ddd2",
   "metadata": {},
   "source": [
    "# 2. Create a program to determine if a person is eligible to vote based on their age."
   ]
  },
  {
   "cell_type": "code",
   "execution_count": 54,
   "id": "d6af84ee-f774-45e5-aa3e-3cce9f18e83a",
   "metadata": {},
   "outputs": [
    {
     "name": "stdin",
     "output_type": "stream",
     "text": [
      "enter your age 15\n"
     ]
    },
    {
     "name": "stdout",
     "output_type": "stream",
     "text": [
      "under age to vote\n"
     ]
    }
   ],
   "source": [
    "try:\n",
    "    a=int(input('enter your age'))\n",
    "    \n",
    "    if a<=0:\n",
    "        print('enter correct age')\n",
    "    elif a<18:\n",
    "        print('under age to vote')\n",
    "    else:\n",
    "        print('you can vote')\n",
    "except Exception as e:\n",
    "    print(e)"
   ]
  },
  {
   "cell_type": "markdown",
   "id": "a68ac5bb-ca9f-4fde-b427-51754c26cb75",
   "metadata": {},
   "source": [
    "# 3. Write a program to find the maximum of two given numbers using conditional statements."
   ]
  },
  {
   "cell_type": "code",
   "execution_count": 58,
   "id": "a3e3cce1-5846-4427-9ce6-6f99389b7998",
   "metadata": {},
   "outputs": [
    {
     "name": "stdin",
     "output_type": "stream",
     "text": [
      "enter 1st number to check maximum number 2\n",
      "enter 2nd number 1\n"
     ]
    },
    {
     "name": "stdout",
     "output_type": "stream",
     "text": [
      "maximum number is 2\n"
     ]
    }
   ],
   "source": [
    "a=int(input('enter 1st number to check maximum number'))\n",
    "b=int(input('enter 2nd number'))\n",
    "\n",
    "try:\n",
    "    if a>b:\n",
    "        print('maximum number is',a)\n",
    "    elif a<b:\n",
    "        print('maximum number is',b)\n",
    "    else:\n",
    "        print('number are equal')\n",
    "except Exception as e:\n",
    "    print(e)"
   ]
  },
  {
   "cell_type": "markdown",
   "id": "827fbd7a-938e-40f9-8ae7-0229e6ece10d",
   "metadata": {},
   "source": [
    "# 4. Develop a program that calculates the grade of a student based on their exam score."
   ]
  },
  {
   "cell_type": "code",
   "execution_count": 61,
   "id": "4e6289f4-f844-4946-b7cf-ebd314c39ba4",
   "metadata": {},
   "outputs": [
    {
     "name": "stdin",
     "output_type": "stream",
     "text": [
      "enter your marks 70\n"
     ]
    },
    {
     "name": "stdout",
     "output_type": "stream",
     "text": [
      "C grade\n"
     ]
    }
   ],
   "source": [
    "try:\n",
    "    a=int(input('enter your marks'))\n",
    "    \n",
    "    if a>=90:\n",
    "        print('A grade')\n",
    "    elif a>=80:\n",
    "        print('B grade')\n",
    "    else:\n",
    "        print('C grade')\n",
    "except Exception as e:\n",
    "    print(e)"
   ]
  },
  {
   "cell_type": "markdown",
   "id": "7e63b0c2-4830-4ac7-8df1-eba9b13a6228",
   "metadata": {},
   "source": [
    "# 5. Create a program that checks if a year is a leap year or not."
   ]
  },
  {
   "cell_type": "code",
   "execution_count": 64,
   "id": "4eeb8944-3c2d-4f46-ae3b-2d87ee15d352",
   "metadata": {},
   "outputs": [
    {
     "name": "stdin",
     "output_type": "stream",
     "text": [
      "enter year 2023\n"
     ]
    },
    {
     "name": "stdout",
     "output_type": "stream",
     "text": [
      "not leap year\n"
     ]
    }
   ],
   "source": [
    "try:\n",
    "    a=int(input('enter year'))\n",
    "    \n",
    "    if a%4==0:\n",
    "        print('leap year')\n",
    "    else:\n",
    "        print('not leap year')\n",
    "except Exception as e:\n",
    "    print(e)"
   ]
  },
  {
   "cell_type": "markdown",
   "id": "243ff20c-3996-4d76-bc02-e5be6861e184",
   "metadata": {},
   "source": [
    "# 6. Write a program to classify a triangle based on its sides' lengths."
   ]
  },
  {
   "cell_type": "code",
   "execution_count": 69,
   "id": "7ab35253-07d2-406e-835f-542effd0e804",
   "metadata": {},
   "outputs": [
    {
     "name": "stdin",
     "output_type": "stream",
     "text": [
      "enter 1st length of triangle side 1\n",
      "enter 2nd length 2\n",
      "enter 3rd length 3\n"
     ]
    },
    {
     "name": "stdout",
     "output_type": "stream",
     "text": [
      "scalene triangle\n"
     ]
    }
   ],
   "source": [
    "try:\n",
    "    l1=int(input('enter 1st length of triangle side'))\n",
    "    l2=int(input('enter 2nd length'))\n",
    "    l3=int(input('enter 3rd length'))\n",
    "    \n",
    "    if l1!=l2!=l3:\n",
    "        print('scalene triangle')\n",
    "    elif l1==l2==l3:\n",
    "        print('equilateral triangle')\n",
    "    else:\n",
    "        print('isoceles triangle')\n",
    "except Exception as e:\n",
    "    print(e)"
   ]
  },
  {
   "cell_type": "markdown",
   "id": "05d74284-ae1a-442c-bf23-467f84bf7c30",
   "metadata": {},
   "source": [
    "# 7. Build a program that determines the largest of three given numbers."
   ]
  },
  {
   "cell_type": "code",
   "execution_count": 91,
   "id": "fef76e05-5f7f-4bf5-822e-939038b9fa1e",
   "metadata": {},
   "outputs": [
    {
     "name": "stdin",
     "output_type": "stream",
     "text": [
      "enter 1st number to check largest number 1\n",
      "enter 2nd number 2\n",
      "enter 3rd number 3\n"
     ]
    },
    {
     "name": "stdout",
     "output_type": "stream",
     "text": [
      "largest number is 3\n"
     ]
    }
   ],
   "source": [
    "try:\n",
    "    a=int(input('enter 1st number to check largest number'))\n",
    "    b=int(input('enter 2nd number'))\n",
    "    c=int(input('enter 3rd number'))\n",
    "    \n",
    "    if a>=b and a>=c:\n",
    "        print('largest number is',a)\n",
    "    elif b>=a and b>=c :\n",
    "        print('largest number is',b)\n",
    "    else:\n",
    "        print('largest number is',c)\n",
    "except Exception as e:\n",
    "    print(e)"
   ]
  },
  {
   "cell_type": "markdown",
   "id": "7bb0e48a-741a-4c7b-b720-f084de376493",
   "metadata": {},
   "source": [
    "# 8. Develop a program that checks whether a character is a vowel or a consonant."
   ]
  },
  {
   "cell_type": "code",
   "execution_count": 93,
   "id": "29a33d5a-27bd-442b-b8e0-4f25a5357204",
   "metadata": {},
   "outputs": [
    {
     "name": "stdin",
     "output_type": "stream",
     "text": [
      "enter aphabet to check vowe or consonant p\n"
     ]
    },
    {
     "name": "stdout",
     "output_type": "stream",
     "text": [
      "consonant\n"
     ]
    }
   ],
   "source": [
    "try:\n",
    "    a=input('enter aphabet to check vowe or consonant')\n",
    "    b='aeiou'\n",
    "    if a in b:\n",
    "        print('vowel')\n",
    "    else:\n",
    "        print('consonant')\n",
    "except Exception as e :\n",
    "    print(e)"
   ]
  },
  {
   "cell_type": "markdown",
   "id": "603e2d27-7d02-44ae-bd70-b098a7c408c9",
   "metadata": {},
   "source": [
    "# 9. Create a program to calculate the total cost of a shopping cart based on discounts."
   ]
  },
  {
   "cell_type": "code",
   "execution_count": 11,
   "id": "8da067bf-cba0-493c-86d5-86d75bf39bed",
   "metadata": {},
   "outputs": [
    {
     "name": "stdin",
     "output_type": "stream",
     "text": [
      "enter quantity 1\n"
     ]
    },
    {
     "name": "stdout",
     "output_type": "stream",
     "text": [
      "27000.0\n"
     ]
    }
   ],
   "source": [
    "try:\n",
    "    a=int(input('enter quantity'))\n",
    "    phone=30000\n",
    "    \n",
    "    if a<=9:\n",
    "        t=(phone-((10*phone)/100))*a\n",
    "    elif a<=6:\n",
    "        t=(phone-((7*phone)/100))*a\n",
    "    elif a<=3:\n",
    "        t=(phone-((4*phone)/100))*a\n",
    "    else:\n",
    "        t=(phone-((phone*14)/100))*a\n",
    "    print(t)\n",
    "except Exception as e:\n",
    "    print(e)"
   ]
  },
  {
   "cell_type": "markdown",
   "id": "54290189-a9f7-40b3-927a-f13200ccadd7",
   "metadata": {},
   "source": [
    "# 10. Write a program that checks if a given number is even or odd."
   ]
  },
  {
   "cell_type": "code",
   "execution_count": 14,
   "id": "d23463c2-0e50-4c14-98c5-82351d6148c8",
   "metadata": {},
   "outputs": [
    {
     "name": "stdin",
     "output_type": "stream",
     "text": [
      "enter number to check if even or odd 3\n"
     ]
    },
    {
     "name": "stdout",
     "output_type": "stream",
     "text": [
      "number is odd\n"
     ]
    }
   ],
   "source": [
    "try:\n",
    "    a=int(input('enter number to check if even or odd'))\n",
    "    \n",
    "    if a==0:\n",
    "        print('number is',0)\n",
    "    elif a%2==0:\n",
    "        print('number is even')\n",
    "    else:\n",
    "        print('number is odd')\n",
    "except Exception as e:\n",
    "    print(e)"
   ]
  },
  {
   "cell_type": "markdown",
   "id": "2cfc326b-3ca7-46c4-9f2b-22961cdaa172",
   "metadata": {},
   "source": [
    "# 11. Write a program that calculates the roots of a quadratic equation ."
   ]
  },
  {
   "cell_type": "code",
   "execution_count": 15,
   "id": "0997bd05-d08d-409f-80c6-dae071a2b2e8",
   "metadata": {},
   "outputs": [
    {
     "name": "stdin",
     "output_type": "stream",
     "text": [
      "enter value of a 1\n",
      "enter value ob b 10\n",
      "enter value of c 1\n"
     ]
    },
    {
     "name": "stdout",
     "output_type": "stream",
     "text": [
      "-0.40408205773457695 -39.59591794226542\n"
     ]
    }
   ],
   "source": [
    "import math\n",
    "try:\n",
    "    a=int(input('enter value of a'))\n",
    "    b=int(input('enter value ob b'))\n",
    "    c=int(input('enter value of c'))\n",
    "    q=b**2-4*a*c\n",
    "\n",
    "    if a==0 :\n",
    "        print('zero value of a')\n",
    "    elif q<0:\n",
    "        print('invalid quadractic')\n",
    "    else:\n",
    "        x1=(-b+math.sqrt(b**2-4*a*c))*2*a\n",
    "        x2=(-b-math.sqrt(b**2-4*a*c))*2*a\n",
    "        print(x1,x2)\n",
    "except Exception as e:\n",
    "    print(e)"
   ]
  },
  {
   "cell_type": "markdown",
   "id": "0800bf27-a53c-47dd-a18c-442ab18d7475",
   "metadata": {},
   "source": [
    "# 12. Create a program that determines the day of the week based on the day number (1-7)."
   ]
  },
  {
   "cell_type": "code",
   "execution_count": 24,
   "id": "52be8441-96c8-4dfb-857c-261e5ddbc4cc",
   "metadata": {},
   "outputs": [
    {
     "name": "stdin",
     "output_type": "stream",
     "text": [
      "enter number 1 to 7 to check day of week 4\n"
     ]
    },
    {
     "name": "stdout",
     "output_type": "stream",
     "text": [
      "thursday\n"
     ]
    }
   ],
   "source": [
    "try:\n",
    "    a=int(input('enter number 1 to 7 to check day of week'))\n",
    "    if a<=0 or a>7:\n",
    "          print('invalid number')\n",
    "    elif a==1:\n",
    "          print('monday')\n",
    "    elif a==2:\n",
    "          print('tuesday')\n",
    "    elif a==3:\n",
    "          print('wednesday')\n",
    "    elif a==4:\n",
    "          print('thursday')\n",
    "    elif a==5:\n",
    "          print('friday')\n",
    "    elif a==6:\n",
    "          print('saturday')\n",
    "    elif a==7:\n",
    "          print('sunday')\n",
    "except Exception as e:\n",
    "    print(e)"
   ]
  },
  {
   "cell_type": "markdown",
   "id": "58e5fb6b-0615-4776-890e-fb192cfbe401",
   "metadata": {
    "tags": []
   },
   "source": [
    "# 13. Develop a program that calculates the factorial of a given number using recursion."
   ]
  },
  {
   "cell_type": "code",
   "execution_count": 4,
   "id": "dfa9aaaf-a3dd-4088-ad71-242902c10aa1",
   "metadata": {},
   "outputs": [
    {
     "name": "stdin",
     "output_type": "stream",
     "text": [
      "enter number for factorial 5\n"
     ]
    },
    {
     "name": "stdout",
     "output_type": "stream",
     "text": [
      "120\n"
     ]
    }
   ],
   "source": [
    "import functools\n",
    "try:\n",
    "    l=int(input('enter number for factorial'))\n",
    "    fact=functools.reduce(lambda a,b:a*b,range(1,l+1))\n",
    "    print(fact)\n",
    "except Exception as e:\n",
    "    print(e)"
   ]
  },
  {
   "cell_type": "markdown",
   "id": "6a193e68-b02a-4d20-ace4-55b55321d7ec",
   "metadata": {},
   "source": [
    "# 14. Write a program to find the largest among three numbers without using the `max()` function."
   ]
  },
  {
   "cell_type": "code",
   "execution_count": 5,
   "id": "92b81430-0c9b-4da6-917d-b1afc6ec12e7",
   "metadata": {},
   "outputs": [
    {
     "name": "stdin",
     "output_type": "stream",
     "text": [
      "enter 1st number to check largest number 1\n",
      "enter 2nd number 2\n",
      "enter 3rd number 3\n"
     ]
    },
    {
     "name": "stdout",
     "output_type": "stream",
     "text": [
      "largest number is 3\n"
     ]
    }
   ],
   "source": [
    "try:\n",
    "    a=int(input('enter 1st number to check largest number'))\n",
    "    b=int(input('enter 2nd number'))\n",
    "    c=int(input('enter 3rd number'))\n",
    "    \n",
    "    if a>=b and a>=c:\n",
    "        print('largest number is',a)\n",
    "    elif b>=a and b>=c :\n",
    "        print('largest number is',b)\n",
    "    else:\n",
    "        print('largest number is',c)\n",
    "except Exception as e:\n",
    "    print(e)"
   ]
  },
  {
   "cell_type": "markdown",
   "id": "3a4b487a-d7fd-411a-b6c5-f11e13462709",
   "metadata": {},
   "source": [
    "# 15. Create a program that simulates a basic ATM transaction menu."
   ]
  },
  {
   "cell_type": "code",
   "execution_count": 8,
   "id": "b797fa89-beea-4beb-91ca-faa6a3a92ceb",
   "metadata": {},
   "outputs": [
    {
     "name": "stdin",
     "output_type": "stream",
     "text": [
      "enter withdrawal amount 10000\n",
      "enter pin 1st digit 1\n",
      "enter pin 1st digit 2\n",
      "enter pin 1st digit 3\n",
      "enter pin 1st digit 4\n"
     ]
    },
    {
     "name": "stdout",
     "output_type": "stream",
     "text": [
      "collect cash 10000\n"
     ]
    }
   ],
   "source": [
    "try:\n",
    "    amt=input('enter withdrawal amount')\n",
    "    n1=input('enter pin 1st digit')\n",
    "    n2=input('enter pin 1st digit')\n",
    "    n3=input('enter pin 1st digit')\n",
    "    n4=input('enter pin 1st digit')\n",
    "    pin='1234'\n",
    "    \n",
    "    if pin==n1+n2+n3+n4:\n",
    "        print('collect cash',amt)\n",
    "    else:\n",
    "        print('wrong pin entered')\n",
    "except Exception as e:\n",
    "    print(e)"
   ]
  },
  {
   "cell_type": "markdown",
   "id": "4db05f5a-531b-440d-99fe-4d3310bc8496",
   "metadata": {},
   "source": [
    "# 16. Build a program that checks if a given string is a palindrome or not."
   ]
  },
  {
   "cell_type": "code",
   "execution_count": 14,
   "id": "fe2be669-0eba-4088-bd45-761ffb329a0e",
   "metadata": {},
   "outputs": [
    {
     "name": "stdin",
     "output_type": "stream",
     "text": [
      "enter word to check if its palindrome nitin\n"
     ]
    },
    {
     "name": "stdout",
     "output_type": "stream",
     "text": [
      "palindrome\n"
     ]
    }
   ],
   "source": [
    "try:\n",
    "    a=input('enter word to check if its palindrome')\n",
    "    \n",
    "    if len(a)<2:\n",
    "        print('enter a word with 2 alphabet or above')\n",
    "    elif a==a[::-1]:\n",
    "        print('palindrome')\n",
    "    else:\n",
    "        print('not palindrome')\n",
    "except Exception as e:\n",
    "    print(e)"
   ]
  },
  {
   "cell_type": "markdown",
   "id": "46ff0357-77b8-46a7-b804-8bf0e871f410",
   "metadata": {},
   "source": [
    "# 17. Write a program that calculates the average of a list of numbers, excluding the smallest and largest values."
   ]
  },
  {
   "cell_type": "code",
   "execution_count": 23,
   "id": "e9835f31-52be-4feb-90d5-14869c90b5eb",
   "metadata": {},
   "outputs": [
    {
     "name": "stdout",
     "output_type": "stream",
     "text": [
      "avg of list excluding smallest nd largest number 5.0\n"
     ]
    }
   ],
   "source": [
    "try:\n",
    "    l1=[1,2,3,4,5,6,7,8,9]\n",
    "    l2=[]\n",
    "    \n",
    "    for i in l1:\n",
    "        if i==max(l1) or i==min(l1):\n",
    "            pass\n",
    "        else:\n",
    "            l2.append(i)\n",
    "    print('avg of list excluding smallest nd largest number',sum(l2)/len(l2))\n",
    "except Exception as e:\n",
    "    print(e)"
   ]
  },
  {
   "cell_type": "markdown",
   "id": "cb32a657-19a0-4eca-a901-260e923729c7",
   "metadata": {},
   "source": [
    "# 18. Develop a program that converts a given temperature from Celsius to Fahrenheit."
   ]
  },
  {
   "cell_type": "code",
   "execution_count": 24,
   "id": "a1da53cb-d6fd-4611-8a68-ce4242a45a19",
   "metadata": {},
   "outputs": [
    {
     "name": "stdin",
     "output_type": "stream",
     "text": [
      "enter celsius 37\n"
     ]
    },
    {
     "name": "stdout",
     "output_type": "stream",
     "text": [
      "98.60000000000001\n"
     ]
    }
   ],
   "source": [
    "try:\n",
    "    f=int(input('enter celsius'))\n",
    "    \n",
    "    c=(f*1.8)+32\n",
    "    print(c)\n",
    "except Exception as e:\n",
    "    print(e)"
   ]
  },
  {
   "cell_type": "markdown",
   "id": "36e125d3-07ec-456d-94d2-72e1a433775d",
   "metadata": {},
   "source": [
    "# 19. Create a program that simulates a basic calculator for addition, subtraction, multiplication, and division."
   ]
  },
  {
   "cell_type": "code",
   "execution_count": 34,
   "id": "3af46d26-dff6-4737-a83b-ef73b7a4dda9",
   "metadata": {},
   "outputs": [
    {
     "name": "stdin",
     "output_type": "stream",
     "text": [
      "enter 1st number 4\n",
      "enter 2nd number 4\n",
      "enter calculation as +-*/ /\n"
     ]
    },
    {
     "name": "stdout",
     "output_type": "stream",
     "text": [
      "1.0\n"
     ]
    }
   ],
   "source": [
    "try:\n",
    "    n1=int(input('enter 1st number'))\n",
    "    n2=int(input('enter 2nd number'))\n",
    "    cal=input('enter calculation as +-*/')\n",
    "    \n",
    "    if cal=='+':\n",
    "        n3=n1+n2\n",
    "        print(n3)\n",
    "    elif cal=='-':\n",
    "        n3=n1-n2\n",
    "        print(n3)\n",
    "    elif cal=='*':\n",
    "        n3=n1*n2\n",
    "        print(n3)\n",
    "    elif cal=='/':\n",
    "        n3=n1/n2\n",
    "        print(n3)\n",
    "    else:\n",
    "        print('enter a valid input')\n",
    "        \n",
    "except Exception as e:\n",
    "    print(e)"
   ]
  },
  {
   "cell_type": "markdown",
   "id": "20ff5780-0497-4575-a669-07cc179ab7f1",
   "metadata": {},
   "source": [
    "# 20. Write a program that determines the roots of a cubic equation using the Cardano formula."
   ]
  },
  {
   "cell_type": "code",
   "execution_count": null,
   "id": "c5307ee1-5fdb-4409-9a3c-630711ec20e8",
   "metadata": {},
   "outputs": [],
   "source": []
  },
  {
   "cell_type": "markdown",
   "id": "98941c48-78b0-4001-8217-8b0ea20c6667",
   "metadata": {},
   "source": [
    "# 21. Create a program that calculates the income tax based on the user's income and tax brackets."
   ]
  },
  {
   "cell_type": "code",
   "execution_count": 41,
   "id": "48a02e9d-2ef3-47b0-bd23-c283b6463a2a",
   "metadata": {},
   "outputs": [
    {
     "name": "stdin",
     "output_type": "stream",
     "text": [
      "enter your yearly income 1000000\n"
     ]
    },
    {
     "name": "stdout",
     "output_type": "stream",
     "text": [
      "tax amount 150000.0\n"
     ]
    }
   ],
   "source": [
    "try:\n",
    "    i=int(input('enter your yearly income'))\n",
    "    \n",
    "    \n",
    "    if i>1000000:\n",
    "        i1=(i*20)/100\n",
    "        print('tax amount',i1)\n",
    "    elif i>700000:\n",
    "        i1=(i*15)/100\n",
    "        print('tax amount',i1)\n",
    "    elif i>500000:\n",
    "        i1=(i*10)/100\n",
    "        print('tax amount',i1)\n",
    "    elif i>3000000:\n",
    "        i1=(i*5)/100\n",
    "        print('tax amount',i1)\n",
    "    else:\n",
    "        print('no tax')\n",
    "except Exception as e:\n",
    "    print(e)"
   ]
  },
  {
   "cell_type": "markdown",
   "id": "6cefa144-506d-4f0a-b940-731158fc1171",
   "metadata": {},
   "source": [
    "# 22. Write a program that simulates a rock-paper-scissors game against the computer."
   ]
  },
  {
   "cell_type": "code",
   "execution_count": 30,
   "id": "0258c234-c6cb-4550-9f47-5b8a4e8ff564",
   "metadata": {},
   "outputs": [
    {
     "name": "stdin",
     "output_type": "stream",
     "text": [
      "enter rock, paper, sciccor to play rock\n"
     ]
    },
    {
     "name": "stdout",
     "output_type": "stream",
     "text": [
      "human wins\n"
     ]
    }
   ],
   "source": [
    "try:\n",
    "    import random\n",
    "    l1=['rock','paper','scissor']\n",
    "    l2=random.choice(l1)\n",
    "    l3=input('enter rock, paper, sciccor to play')\n",
    "\n",
    "    if l3 not in l1:\n",
    "        print('invalid input enter rock,paper or sciccor')\n",
    "    else:\n",
    "        if l2=='rock' and l3=='paper' :\n",
    "            print('human wins')\n",
    "        elif l2=='paper' and l3=='scissor':\n",
    "            print('human wins')\n",
    "        elif l2=='scissor' and l3=='rock':\n",
    "            print('human wins')\n",
    "        elif l2==l3:\n",
    "            print('its a tie')\n",
    "        else:\n",
    "            print('computer wins')\n",
    "except Exception as e:\n",
    "    print(e)"
   ]
  },
  {
   "cell_type": "markdown",
   "id": "861fbb3a-51ec-4dff-9229-7cbf8243aa0d",
   "metadata": {},
   "source": [
    "# 23. Develop a program that generates a random password based on user preferences (length, complexity)."
   ]
  },
  {
   "cell_type": "code",
   "execution_count": 77,
   "id": "ccdf581d-9373-4841-8e08-a03dbf7a430f",
   "metadata": {},
   "outputs": [
    {
     "name": "stdin",
     "output_type": "stream",
     "text": [
      "enter preffered password minimum 5 letters nitinkapoor\n"
     ]
    },
    {
     "name": "stdout",
     "output_type": "stream",
     "text": [
      "ikrnr\n"
     ]
    }
   ],
   "source": [
    "\n",
    "import random\n",
    "l=input('enter preffered password minimum 5 letters')\n",
    "l1='!@#$%^&*()_-=+<>?:{}[];,.?/1234567890'\n",
    "l2=[*l]\n",
    "\n",
    "if len(l)<5:\n",
    "    print('enter minimum 5 letter word')\n",
    "else:\n",
    "    l3=[random.choice(l)]+[random.choice(l)]+[random.choice(l1)]\n",
    "    l4=[random.choice(l)]+[random.choice(l1)]+[random.choice(l)]+[random.choice(l1)]\n",
    "    l5=[random.choice(l)]+[random.choice(l1)]+[random.choice(l)]+[random.choice(l)]+[random.choice(l1)]\n",
    "    l6=[random.choice(l)]+[random.choice(l1)]+[random.choice(l)]+[random.choice(l1)]+[random.choice(l)]+[random.choice(l1)]\n",
    "    l7=[random.choice(l)]+[random.choice(l1)]+[random.choice(l)]+[random.choice(l1)]+[random.choice(l)]+[random.choice(l1)]+[random.choice(l)]\n",
    "    l8=[random.choice(''.join(l3))]+[random.choice(''.join(l4))]+[random.choice(''.join(l5))]+[random.choice(''.join(l6))]+[random.choice(''.join(l7))]\n",
    "    print(''.join(l8))"
   ]
  },
  {
   "cell_type": "markdown",
   "id": "d023b8a4-fe3e-44b5-a1f0-9eacc4ebdb41",
   "metadata": {},
   "source": [
    "# 24. Create a program that implements a simple text-based adventure game with branching scenarios."
   ]
  },
  {
   "cell_type": "code",
   "execution_count": null,
   "id": "c01f0a67-6141-46e2-bf08-5189c8da45d7",
   "metadata": {},
   "outputs": [],
   "source": []
  },
  {
   "cell_type": "markdown",
   "id": "a2189b01-1013-4705-8bd8-65817852fac6",
   "metadata": {},
   "source": [
    "# 25. Build a program that solves a linear equation for x, considering different cases."
   ]
  },
  {
   "cell_type": "code",
   "execution_count": 5,
   "id": "5ea886a5-0570-478b-9ea7-05c3c4ec0293",
   "metadata": {},
   "outputs": [
    {
     "name": "stdin",
     "output_type": "stream",
     "text": [
      "enter value of a in linear equation 10\n",
      "enter value of b in linear equation 5\n"
     ]
    },
    {
     "name": "stdout",
     "output_type": "stream",
     "text": [
      "value of x = -0.5\n"
     ]
    }
   ],
   "source": [
    "a=int(input('enter value of a in linear equation'))\n",
    "b=int(input('enter value of b in linear equation'))\n",
    "\n",
    "if a==0:\n",
    "    if b==0:\n",
    "        print('indefinate solution')\n",
    "    else:\n",
    "        print('no solution')\n",
    "        \n",
    "else:\n",
    "    x= -b/a\n",
    "    print('value of x =',x)"
   ]
  },
  {
   "cell_type": "markdown",
   "id": "99081f4c-f3cf-49cc-9837-c64864b5c360",
   "metadata": {},
   "source": [
    "# 26. Write a program that simulates a basic quiz game with multiple-choice questions and scoring."
   ]
  },
  {
   "cell_type": "code",
   "execution_count": 10,
   "id": "5f7f9d1e-13d6-4ad1-9d1f-685c7ec695e9",
   "metadata": {},
   "outputs": [
    {
     "name": "stdin",
     "output_type": "stream",
     "text": [
      "Question : what is 3x5\n",
      "input option A 15\n",
      "input option B 20\n",
      "input option C 30\n",
      "input option D 40\n",
      "Enter answer option a,b,c or b a\n",
      "Question : what is 3+8\n",
      "input option A 15\n",
      "input option B 11\n",
      "input option C 17\n",
      "input option D 12\n",
      "Enter answer option a,b,c or b b\n",
      "Question : what is 21/7\n",
      "input option A 33\n",
      "input option B 3\n",
      "input option C 21\n",
      "input option D 7\n",
      "Enter answer option a,b,c or b b\n"
     ]
    },
    {
     "name": "stdout",
     "output_type": "stream",
     "text": [
      "your score is 3\n"
     ]
    }
   ],
   "source": [
    "ans=['a','b','b']\n",
    "score=[]\n",
    "option='abcd'\n",
    "\n",
    "for i in range(len(ans)):\n",
    "    for j in ans[i]:\n",
    "        if input('Question :'):\n",
    "            a=input('input option A')\n",
    "            b=input('input option B')\n",
    "            c=input('input option C')\n",
    "            d=input('input option D')\n",
    "            enter_ans=input('Enter answer option a,b,c or b')\n",
    "            if enter_ans in option:\n",
    "                if enter_ans==j:\n",
    "                    score.append(1)\n",
    "                else:\n",
    "                    score.append(-1)\n",
    "            else:\n",
    "                print('wrong option entered')\n",
    "                break\n",
    "print('your score is',sum(score))"
   ]
  },
  {
   "cell_type": "markdown",
   "id": "367614fd-4cb3-467d-9ba7-457835bdb012",
   "metadata": {},
   "source": [
    "# 27. Develop a program that determines whether a given year is a prime number or not."
   ]
  },
  {
   "cell_type": "code",
   "execution_count": 15,
   "id": "a2154834-a402-4931-af9a-bf08dbaf4ba2",
   "metadata": {},
   "outputs": [
    {
     "name": "stdin",
     "output_type": "stream",
     "text": [
      "enter year to check if its prime number 11\n"
     ]
    },
    {
     "name": "stdout",
     "output_type": "stream",
     "text": [
      "prime number\n"
     ]
    }
   ],
   "source": [
    "a=int(input('enter year to check if its prime number'))\n",
    "\n",
    "for i in range(2,a-1):\n",
    "    if a%i==0:\n",
    "        print('not prime number')\n",
    "        break\n",
    "else:\n",
    "    print('prime number')"
   ]
  },
  {
   "cell_type": "markdown",
   "id": "370c1a1e-2b15-4686-b9d5-9ef9f7daa604",
   "metadata": {},
   "source": [
    "# 28. Create a program that sorts three numbers in ascending order using conditional statements."
   ]
  },
  {
   "cell_type": "code",
   "execution_count": 37,
   "id": "21f8231c-c83a-44ec-b464-3bba2ed1ee12",
   "metadata": {},
   "outputs": [
    {
     "name": "stdin",
     "output_type": "stream",
     "text": [
      "enter 1st number to sort in accending order 3\n",
      "enter 2nd number 1\n",
      "enter 3rd number 3\n"
     ]
    },
    {
     "name": "stdout",
     "output_type": "stream",
     "text": [
      "sorted list 3 3 1\n"
     ]
    }
   ],
   "source": [
    "a=int(input('enter 1st number to sort in accending order'))\n",
    "b=int(input('enter 2nd number'))\n",
    "c=int(input('enter 3rd number'))\n",
    "\n",
    "if (a>b and a>c and b>=c) or (a>=b and a>=c and b>c) :\n",
    "    print('sorted list', a,b,c)\n",
    "elif (a>b and a>c and c>=b) or (a>=b and a>=c and c>b):\n",
    "    print('sorted list', a,c,b)\n",
    "elif (b>a and b>c and c>=a) or (b>=a and b>=c and c>a):\n",
    "    print('sorted list', b,c,a)\n",
    "elif (b>a and b>c and a>=c) or (b>=a and b>=c and a>c):\n",
    "    print('sorted list', b,a,c)\n",
    "elif (c>a and c>b and a>=b) or (c>=a and c>=b and a>b):\n",
    "    print('sorted list', c,a,b)\n",
    "elif c>a and c>b and b>=a:\n",
    "    print('sorted list', c,b,a)"
   ]
  },
  {
   "cell_type": "markdown",
   "id": "f074f215-f68b-4779-8c13-5ab46ea9622e",
   "metadata": {},
   "source": [
    "# 29. Build a program that determines the roots of a quartic equation using numerical methods."
   ]
  },
  {
   "cell_type": "code",
   "execution_count": 3,
   "id": "67e90b21-9bb9-4219-926e-70209d8678b9",
   "metadata": {},
   "outputs": [
    {
     "name": "stdin",
     "output_type": "stream",
     "text": [
      "enter value of a in quadratic 5\n",
      "enter value of b 25\n",
      "enter value of c 5\n"
     ]
    },
    {
     "name": "stdout",
     "output_type": "stream",
     "text": [
      "-5.217803813052004 -119.782196186948\n"
     ]
    }
   ],
   "source": [
    "import math\n",
    "a=int(input('enter value of a in quadratic'))\n",
    "b=int(input('enter value of b'))\n",
    "c=int(input('enter value of c'))\n",
    "x=b**2-4*a*c\n",
    "\n",
    "if a>0:\n",
    "    if x>=0:\n",
    "        x1=(-b+(math.sqrt(x)))/2*a\n",
    "        x2=(-b-(math.sqrt(x)))/2*a\n",
    "        print(x1,x2)\n",
    "    else:\n",
    "        print('not real number')\n",
    "else:\n",
    "    print('value of a cannot be zero')"
   ]
  },
  {
   "cell_type": "markdown",
   "id": "b06a8d71-7f04-40cb-9c82-d3870a67b99c",
   "metadata": {},
   "source": [
    "# 30. Write a program that calculates the BMI (Body Mass Index) and provides health recommendations based on the user's input."
   ]
  },
  {
   "cell_type": "code",
   "execution_count": 7,
   "id": "427aa7a2-7fb9-41a0-92f4-3eef50901412",
   "metadata": {},
   "outputs": [
    {
     "name": "stdin",
     "output_type": "stream",
     "text": [
      "enter weight in kg 80\n",
      "enter height in cms 179\n"
     ]
    },
    {
     "name": "stdout",
     "output_type": "stream",
     "text": [
      "normal weight\n"
     ]
    }
   ],
   "source": [
    "w=int(input('enter weight in kg'))\n",
    "h=int(input('enter height in cms'))\n",
    "a=(w/(h**2))*10000\n",
    "\n",
    "if a>=30:\n",
    "    print('obese')\n",
    "elif a>=25:\n",
    "    print('overweight')\n",
    "elif a>=18.5:\n",
    "    print('normal weight')\n",
    "else:\n",
    "    print('underweight')"
   ]
  },
  {
   "cell_type": "markdown",
   "id": "90ae601d-3d7f-4e86-aae2-9356f6401abc",
   "metadata": {},
   "source": [
    "# 31. Create a program that validates a password based on complexity rules (length, characters, etc.)."
   ]
  },
  {
   "cell_type": "code",
   "execution_count": 49,
   "id": "da1c7158-7e92-4997-a003-ccfb493c6416",
   "metadata": {},
   "outputs": [
    {
     "name": "stdin",
     "output_type": "stream",
     "text": [
      "enter password minimum 5 characters,1 number, 1 upper case and 1 special character pWskills@2023\n"
     ]
    },
    {
     "name": "stdout",
     "output_type": "stream",
     "text": [
      "password validated\n"
     ]
    }
   ],
   "source": [
    "p=input('enter password minimum 5 characters,1 number, 1 upper case and 1 special character')\n",
    "c='!@#$%^&*()_-=+<>?:{}[];,.?/'\n",
    "\n",
    "\n",
    "if len(p)<=5:\n",
    "    print('password must be minimum 5 characters')\n",
    "elif not any(i in c for i in p):\n",
    "    print('password must contain 1 special charcter')\n",
    "elif not any(i.isdigit for i in p):\n",
    "    print('password must contain 1 number')\n",
    "elif not any(i.isupper for i in p):\n",
    "    print('password must contain 1 upper case')\n",
    "elif ' ' in p :\n",
    "    print('password should not contain spaces')\n",
    "else:\n",
    "    print('password validated')"
   ]
  },
  {
   "cell_type": "markdown",
   "id": "e5ed6505-b3a0-4472-9464-791f7f30441f",
   "metadata": {},
   "source": [
    "# 32. Develop a program that performs matrix addition and subtraction based on user input."
   ]
  },
  {
   "cell_type": "code",
   "execution_count": 65,
   "id": "bb0b68bd-9565-424e-be88-d528b16dc35c",
   "metadata": {},
   "outputs": [
    {
     "name": "stdin",
     "output_type": "stream",
     "text": [
      "enter + or - for addition or subtraction +\n"
     ]
    },
    {
     "name": "stdout",
     "output_type": "stream",
     "text": [
      "[[7, 10, 13], [11, 14, 11], [14, 11, 6]]\n"
     ]
    }
   ],
   "source": [
    "a=[[2,3,4],[5,6,7],[5,6,3]]\n",
    "b=[[5,7,9],[6,8,4],[9,5,3]]\n",
    "\n",
    "def matrix_addsub(a,b,c):\n",
    "    for i in range(len(a)):\n",
    "        for j in range(len(a[i])):\n",
    "            if c=='+':\n",
    "                a[i][j]=(a[i][j]) + (b[i][j])\n",
    "            elif c=='-':\n",
    "                a[i][j]=(a[i][j]) - (b[i][j])\n",
    "\n",
    "c=input('enter + or - for addition or subtraction')\n",
    "matrix_addsub(a,b,c)\n",
    "print(a)"
   ]
  },
  {
   "cell_type": "markdown",
   "id": "a42ce640-2c1a-4fd2-b956-25dc2ced7172",
   "metadata": {},
   "source": [
    "# 33. Write a program that calculates the greatest common divisor (GCD) of two numbers using the Euclidean algorithm."
   ]
  },
  {
   "cell_type": "code",
   "execution_count": 28,
   "id": "f91e1051-08ff-45c1-b5af-d57dfad7821a",
   "metadata": {},
   "outputs": [
    {
     "name": "stdin",
     "output_type": "stream",
     "text": [
      "enter 1st number for GCD 100\n",
      "enter 2nd number 30\n"
     ]
    },
    {
     "name": "stdout",
     "output_type": "stream",
     "text": [
      "10\n"
     ]
    }
   ],
   "source": [
    "a=int(input('enter 1st number for GCD'))\n",
    "b=int(input('enter 2nd number'))\n",
    "c=[]\n",
    "\n",
    "for i in range (2,min(a,b)+1):\n",
    "    if a%i==0 and b%i==0:\n",
    "        c.append(i)\n",
    "print(max(c))"
   ]
  },
  {
   "cell_type": "markdown",
   "id": "03deefa9-f036-4d9a-a453-9d4745302f06",
   "metadata": {
    "tags": []
   },
   "source": [
    "# 34. Build a program that performs matrix multiplication using nested loops and conditional statements."
   ]
  },
  {
   "cell_type": "code",
   "execution_count": 1,
   "id": "21f4d686-48f8-4b9a-8631-339e0437eb15",
   "metadata": {},
   "outputs": [
    {
     "name": "stdout",
     "output_type": "stream",
     "text": [
      "[[40, 80, 110], [30, 50, 80], [10, 60, 350]]\n"
     ]
    }
   ],
   "source": [
    "a=[[4,8,11],[3,5,8],[1,6,35]]\n",
    "b=10\n",
    "\n",
    "def matrix_multiply(a,b):\n",
    "    for i in range(len(a)):\n",
    "        for j in range(len(a[i])):\n",
    "            a[i][j]=b*a[i][j]\n",
    "matrix_multiply(a,b)\n",
    "print(a)"
   ]
  },
  {
   "cell_type": "markdown",
   "id": "037a4967-08c6-4a8a-a786-f1b553c6be48",
   "metadata": {
    "tags": []
   },
   "source": [
    "# 35. Create a program that simulates a basic text-based tic-tac-toe game against the computer."
   ]
  },
  {
   "cell_type": "code",
   "execution_count": 52,
   "id": "733cfe99-80af-4b16-9b58-6327b20ced9b",
   "metadata": {},
   "outputs": [],
   "source": [
    "import random\n",
    "\n",
    "class tic_tac_toe:\n",
    "    \n",
    "    def __init__(self):\n",
    "        self.board=['-', '-', '-',\n",
    "                    '-', '-', '-',\n",
    "                    '-', '-', '-']\n",
    "\n",
    "    def print_board(self):\n",
    "        print(self.board[0]+'|'+self.board[1]+'|'+self.board[2])\n",
    "        print(self.board[3]+'|'+self.board[4]+'|'+self.board[5])\n",
    "        print(self.board[6]+'|'+self.board[7]+'|'+self.board[8])\n",
    "        \n",
    "    def game_start(self):\n",
    "        while not self.check_winner():\n",
    "            while '-' in self.board:\n",
    "                self.print_board()\n",
    "                human = int(input('Enter number between 1 to 9: '))\n",
    "                \n",
    "                while self.board[human-1] != '-':\n",
    "                    print('Choose a number between 1 to 9 with a free - space')\n",
    "                    human = int(input('Enter number between 1 to 9: '))\n",
    "\n",
    "                self.board[human-1] = 'X'\n",
    "                \n",
    "                comp = random.randint(1, 9)\n",
    "                while self.board[comp-1] != '-':\n",
    "                    comp = random.randint(1, 9)\n",
    "                self.board[comp-1] = 'O'\n",
    "                \n",
    "                if self.check_winner():\n",
    "                    break\n",
    "\n",
    "        self.print_board()\n",
    "        if self.check_winner() == 'X':\n",
    "            print('Human Wins')\n",
    "        elif self.check_winner() == 'O':\n",
    "            print('Computer Wins')\n",
    "        else:\n",
    "            print('It\\'s a Tie!')\n",
    "\n",
    "    def check_winner(self):\n",
    "        for combo in [(0, 1, 2), (3, 4, 5), (6, 7, 8), (0, 3, 6), (1, 4, 7), (2, 5, 8), (0, 4, 8), (2, 4, 6)]:\n",
    "            if self.board[combo[0]] == self.board[combo[1]] == self.board[combo[2]] == 'X':\n",
    "                return 'X'\n",
    "            elif self.board[combo[0]] == self.board[combo[1]] == self.board[combo[2]] == 'O':\n",
    "                return 'O'\n",
    "        return False\n"
   ]
  },
  {
   "cell_type": "code",
   "execution_count": 50,
   "id": "732e5c4e-2cef-4e16-91ea-35d43e067968",
   "metadata": {},
   "outputs": [],
   "source": [
    "a=tic_tac_toe()"
   ]
  },
  {
   "cell_type": "code",
   "execution_count": 51,
   "id": "31fd91f9-e0b6-4357-9214-f42182483a07",
   "metadata": {},
   "outputs": [
    {
     "name": "stdout",
     "output_type": "stream",
     "text": [
      "-|-|-\n",
      "-|-|-\n",
      "-|-|-\n"
     ]
    },
    {
     "name": "stdin",
     "output_type": "stream",
     "text": [
      "Enter number between 1 to 9:  9\n"
     ]
    },
    {
     "name": "stdout",
     "output_type": "stream",
     "text": [
      "-|-|-\n",
      "O|-|-\n",
      "-|-|X\n"
     ]
    },
    {
     "name": "stdin",
     "output_type": "stream",
     "text": [
      "Enter number between 1 to 9:  1\n"
     ]
    },
    {
     "name": "stdout",
     "output_type": "stream",
     "text": [
      "X|-|O\n",
      "O|-|-\n",
      "-|-|X\n"
     ]
    },
    {
     "name": "stdin",
     "output_type": "stream",
     "text": [
      "Enter number between 1 to 9:  5\n"
     ]
    },
    {
     "name": "stdout",
     "output_type": "stream",
     "text": [
      "X|-|O\n",
      "O|X|O\n",
      "-|-|X\n",
      "Human Wins\n"
     ]
    }
   ],
   "source": [
    "a.game_start()"
   ]
  },
  {
   "cell_type": "markdown",
   "id": "ec690d3d-5ee9-437a-a230-6d9663a6d011",
   "metadata": {},
   "source": [
    "# 36. Write a program that generates Fibonacci numbers up to a specified term using iterative methods."
   ]
  },
  {
   "cell_type": "code",
   "execution_count": 28,
   "id": "a3233560-2374-4460-94b6-2db8a0544c2a",
   "metadata": {},
   "outputs": [
    {
     "name": "stdin",
     "output_type": "stream",
     "text": [
      "enter number till fibonacchi number is required 10\n"
     ]
    },
    {
     "name": "stdout",
     "output_type": "stream",
     "text": [
      "55\n"
     ]
    }
   ],
   "source": [
    "n=int(input('enter number till fibonacchi number is required'))\n",
    "fibo=list(range(n+1))\n",
    "newfibo=[]\n",
    "for i in range(2,len(fibo)):\n",
    "    fibo[i]=fibo[i-1]+fibo[i-2]\n",
    "    newfibo.append(fibo[i])\n",
    "print(newfibo[-1])"
   ]
  },
  {
   "cell_type": "markdown",
   "id": "24a3b9c7-a8d9-48f1-8a87-35e9c54f1352",
   "metadata": {},
   "source": [
    "# 37. Develop a program that calculates the nth term of the Fibonacci sequence using memoization."
   ]
  },
  {
   "cell_type": "code",
   "execution_count": 9,
   "id": "69bb97c5-5728-44e8-8bc5-8c2f38171bfd",
   "metadata": {},
   "outputs": [],
   "source": [
    "def fibonachhi(n):\n",
    "    a=0\n",
    "    b=1\n",
    "    if n<0:\n",
    "        print('incorrect input entered')\n",
    "    elif n==0:\n",
    "        return 0\n",
    "    elif n==1:\n",
    "        return 1\n",
    "    else:\n",
    "        for i in range(2,n+1):\n",
    "            c=a+b\n",
    "            a=b\n",
    "            b=c\n",
    "        return b"
   ]
  },
  {
   "cell_type": "code",
   "execution_count": 10,
   "id": "82d34d46-6086-46d2-959c-07ccaf8cda62",
   "metadata": {},
   "outputs": [
    {
     "data": {
      "text/plain": [
       "55"
      ]
     },
     "execution_count": 10,
     "metadata": {},
     "output_type": "execute_result"
    }
   ],
   "source": [
    "fibonachhi(10)"
   ]
  },
  {
   "cell_type": "markdown",
   "id": "ee222547-e52a-4772-be87-5ea4f603ba2e",
   "metadata": {},
   "source": [
    "# 38. Create a program that generates a calendar for a given month and year using conditional statements."
   ]
  },
  {
   "cell_type": "code",
   "execution_count": 36,
   "id": "5b99f271-9325-4ad7-90a0-aa74660f985b",
   "metadata": {},
   "outputs": [],
   "source": [
    "def calender_month(year,month):\n",
    "    month_print=list(range(1,32))\n",
    "    \n",
    "    if (year%400==0) or (year%4==0 and year%100!=0):\n",
    "        if month in (1,3,5,7,8,10,12):\n",
    "            print (month_print)\n",
    "        elif month ==2:\n",
    "            print (month_print[:29:])\n",
    "        else:\n",
    "            print(month_print[:30:])\n",
    "    else:\n",
    "        if month in (1,3,5,7,8,10,12):\n",
    "            print (month_print)\n",
    "        elif month ==2:\n",
    "            print (month_print[:28:])\n",
    "        else:\n",
    "            print(month_print[:30:])"
   ]
  },
  {
   "cell_type": "code",
   "execution_count": 40,
   "id": "857adecb-cc6c-4fb1-8cb1-0fd2cd802b03",
   "metadata": {},
   "outputs": [
    {
     "name": "stdout",
     "output_type": "stream",
     "text": [
      "[1, 2, 3, 4, 5, 6, 7, 8, 9, 10, 11, 12, 13, 14, 15, 16, 17, 18, 19, 20, 21, 22, 23, 24, 25, 26, 27, 28, 29]\n"
     ]
    }
   ],
   "source": [
    "calender_month(2000,2)"
   ]
  },
  {
   "cell_type": "markdown",
   "id": "4fde29b4-5770-45c5-82e6-a8faf4f4a687",
   "metadata": {},
   "source": [
    "# 39. Build a program that simulates a basic text-based blackjack game against the computer."
   ]
  },
  {
   "cell_type": "code",
   "execution_count": null,
   "id": "5a15adc2-f8ac-4fd6-b5e8-08b7926df4ec",
   "metadata": {},
   "outputs": [],
   "source": []
  },
  {
   "cell_type": "markdown",
   "id": "56dc3b46-08b8-49c2-b1d3-317d23510455",
   "metadata": {},
   "source": [
    "# 40. Write a program that generates the prime factors of a given number using trial division."
   ]
  },
  {
   "cell_type": "code",
   "execution_count": 14,
   "id": "f67f72f9-8f8b-454b-9df9-11feb1d8af34",
   "metadata": {},
   "outputs": [
    {
     "data": {
      "text/plain": [
       "'prime number'"
      ]
     },
     "execution_count": 14,
     "metadata": {},
     "output_type": "execute_result"
    }
   ],
   "source": [
    "def prime_num(n):\n",
    "    i=2\n",
    "    k=int(n**0.5)\n",
    "    \n",
    "    while i<=k:\n",
    "        if n%i==0:\n",
    "            return 'not a Prime number'\n",
    "        i+=1\n",
    "    return 'prime number'\n",
    "\n",
    "prime_num(11)"
   ]
  }
 ],
 "metadata": {
  "kernelspec": {
   "display_name": "Python 3 (ipykernel)",
   "language": "python",
   "name": "python3"
  },
  "language_info": {
   "codemirror_mode": {
    "name": "ipython",
    "version": 3
   },
   "file_extension": ".py",
   "mimetype": "text/x-python",
   "name": "python",
   "nbconvert_exporter": "python",
   "pygments_lexer": "ipython3",
   "version": "3.10.8"
  }
 },
 "nbformat": 4,
 "nbformat_minor": 5
}
